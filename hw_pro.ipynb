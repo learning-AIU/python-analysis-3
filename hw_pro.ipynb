{
 "cells": [
  {
   "cell_type": "markdown",
   "metadata": {
    "id": "gMwyKhlQJ1mf"
   },
   "source": [
    "## Задание 1"
   ]
  },
  {
   "cell_type": "markdown",
   "metadata": {
    "id": "1rEszLVEtXIP"
   },
   "source": [
    "**Условие:** \n",
    "Напишите функцию ```multi_mean()```, которая может принимать на вход любое количество чисел и возвращает кортеж различных средних значений (среднее арифметическое, среднее геометрическое, среднее гармоническое). В ответе укажите результат работы функции для ```multi_mean(1.74, 2, 18, 24)```.\n",
    "\n",
    "**Формат ответа:** \n",
    "Кортеж чисел (например, ```(25.4, 8.2, 3.5)```)"
   ]
  },
  {
   "cell_type": "code",
   "execution_count": 1,
   "metadata": {
    "id": "VJK9Zli12lB8"
   },
   "outputs": [],
   "source": [
    "from statistics import mean, geometric_mean, harmonic_mean\n",
    "\n",
    "def multi_mean(*numbers: float) -> tuple[float, float, float]:\n",
    "    return (\n",
    "        mean(numbers),\n",
    "        geometric_mean(numbers),\n",
    "        harmonic_mean(numbers)\n",
    "    )"
   ]
  },
  {
   "cell_type": "code",
   "execution_count": 2,
   "metadata": {},
   "outputs": [
    {
     "name": "stdout",
     "output_type": "stream",
     "text": [
      "(11.435, 6.2268119139225995, 3.413158970167552)\n"
     ]
    }
   ],
   "source": [
    "result = multi_mean(1.74, 2, 18, 24)\n",
    "print(result)"
   ]
  },
  {
   "cell_type": "markdown",
   "metadata": {
    "id": "cv6HbXXwLoE5"
   },
   "source": [
    "## Задание 2"
   ]
  },
  {
   "cell_type": "markdown",
   "metadata": {
    "id": "VhMotGPILoFK"
   },
   "source": [
    "**Условие:** \n",
    "Напишите функцию, которая принимает на вход в виде именованных переменных длины сторон параллелепипеда и возвращает кортеж значений (площадь параллелепипеда, объем параллелепипеда). Напишите строку документации для данной функции. В ответе укажите результат работы функции для длин сторон ```2,12,6```.\n",
    "\n",
    "**Формат ответа:** \n",
    "Кортеж чисел (например, ```(25.4, 8.2)```)"
   ]
  },
  {
   "cell_type": "code",
   "execution_count": 3,
   "metadata": {
    "id": "zyuf9Wj93JpS"
   },
   "outputs": [],
   "source": [
    "def parallelepiped_calculate(*,\n",
    "        width: float,\n",
    "        length: float,\n",
    "        height: float\n",
    "    ) -> tuple[float, float]:\n",
    "    \"\"\"Вычисляет площадь полной поверхности и объём прямоугольного параллелепипеда по заданным длинам сторон.\n",
    "    \n",
    "    :param width: ширина\n",
    "    :param length: длина (глубина)\n",
    "    :param height: высота\n",
    "    :return: кортеж значений площади полной поверхности и объёма\n",
    "    \"\"\"\n",
    "    return (\n",
    "        2*(width*length + length*height + width*height),\n",
    "        width*length*height\n",
    "    )"
   ]
  },
  {
   "cell_type": "code",
   "execution_count": 4,
   "metadata": {},
   "outputs": [
    {
     "name": "stdout",
     "output_type": "stream",
     "text": [
      "(216, 144)\n"
     ]
    }
   ],
   "source": [
    "result = parallelepiped_calculate(width=2, length=12, height=6)\n",
    "print(result)"
   ]
  },
  {
   "cell_type": "markdown",
   "metadata": {
    "id": "u99L6XCc_xqE"
   },
   "source": [
    "## Задание 3"
   ]
  },
  {
   "cell_type": "markdown",
   "metadata": {
    "id": "uj1850g9_0m6"
   },
   "source": [
    "**Условие:** \n",
    "Создайте лямбда-функцию, которая может получить на вход любое количество чисел и выдать их среднее арифметическое. Примените данную функцию на набору значений, указанных в решении.\n",
    "\n",
    "**Формат ответа:** Число (например,  ```15.2```)"
   ]
  },
  {
   "cell_type": "code",
   "execution_count": null,
   "metadata": {
    "id": "88_ZR590YBP6"
   },
   "outputs": [],
   "source": [
    "target_list = [1,2,3,4,5,6,7,8,9,10]"
   ]
  },
  {
   "cell_type": "code",
   "execution_count": null,
   "metadata": {
    "id": "9Q_M7YAZ3LJC"
   },
   "outputs": [],
   "source": [
    "# Ваше решение"
   ]
  },
  {
   "cell_type": "markdown",
   "metadata": {
    "id": "YHn0CNCYZfUn"
   },
   "source": [
    "## Задание 4"
   ]
  },
  {
   "cell_type": "markdown",
   "metadata": {
    "id": "CKMNXhnKZsUG"
   },
   "source": [
    "**Условие:** \n",
    "Посчитать значение $\\cos^2(\\pi^{25})$ и $\\sin^2(\\pi^{25})$, используя указанные функции из библиотеки ```math```, применив для этого **каждую** из конструкций импорта:\n",
    "```\n",
    "# 1. Импорт модуля или модулей целиком\n",
    "import имя_модуля\n",
    "import имя_модуля1, имя_модуля2\n",
    " \n",
    "# 2. Импорт модуля с присвоением псевдонима модулю\n",
    "import имя_модуля as новое_имя\n",
    " \n",
    "# 3. Импорт конкретного объекта из модуля\n",
    "from имя_модуля import имя_объекта\n",
    "from имя_модуля import имя_объекта1, имя_объекта2\n",
    " \n",
    "# 4. Импорт конкретного объекта из модуля с присвоением псевдонима объекту\n",
    "from имя_модуля import имя_объекта as псевдоним_объекта\n",
    " \n",
    "# 5. Импорт всех объектов из модуля\n",
    "from имя_модуля import *\n",
    "```\n",
    "Найдите произведение $\\cos^2(\\pi^{25})*\\sin^2(\\pi^{25})$.\n",
    "\n",
    "**Формат ответа:** Число с плавающей запятой, округленное до десятых (например,```0.1```) "
   ]
  },
  {
   "cell_type": "code",
   "execution_count": null,
   "metadata": {
    "id": "hjNy9yAC3geS"
   },
   "outputs": [],
   "source": [
    "# Ваше решение"
   ]
  },
  {
   "cell_type": "markdown",
   "metadata": {
    "id": "Mahvy-mDau2k"
   },
   "source": [
    "## Задание 5"
   ]
  },
  {
   "cell_type": "markdown",
   "metadata": {
    "id": "PNLu9dwWazNr"
   },
   "source": [
    "**Условие:** С помощью конструкции ```try...except...``` реализуйте перехват исключения при вводе пользователем не числового или нулевого значения в функции подсчета обратного значения числа. Выведите предупреждение с описанием ошибки. Какой тип ошибки перехватывается при вводе не числового значения?\n",
    "\n",
    "**Формат ответа:** Строка (например, ```'IndexError'```)"
   ]
  },
  {
   "cell_type": "code",
   "execution_count": null,
   "metadata": {
    "id": "nlfXgtwl3ogr"
   },
   "outputs": [],
   "source": [
    "# Ваше решение"
   ]
  }
 ],
 "metadata": {
  "colab": {
   "provenance": []
  },
  "kernelspec": {
   "display_name": "Python 3 (ipykernel)",
   "language": "python",
   "name": "python3"
  },
  "language_info": {
   "codemirror_mode": {
    "name": "ipython",
    "version": 3
   },
   "file_extension": ".py",
   "mimetype": "text/x-python",
   "name": "python",
   "nbconvert_exporter": "python",
   "pygments_lexer": "ipython3",
   "version": "3.11.2"
  }
 },
 "nbformat": 4,
 "nbformat_minor": 1
}
